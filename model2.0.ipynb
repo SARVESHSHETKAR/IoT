{
 "cells": [
  {
   "cell_type": "code",
   "execution_count": 39,
   "id": "ad316952-e2a4-4754-a83a-0aecf82c0354",
   "metadata": {},
   "outputs": [
    {
     "name": "stderr",
     "output_type": "stream",
     "text": [
      "/home/mca/anaconda3/lib/python3.12/site-packages/sklearn/base.py:376: InconsistentVersionWarning: Trying to unpickle estimator DecisionTreeClassifier from version 1.4.2 when using version 1.5.1. This might lead to breaking code or invalid results. Use at your own risk. For more info please refer to:\n",
      "https://scikit-learn.org/stable/model_persistence.html#security-maintainability-limitations\n",
      "  warnings.warn(\n",
      "/home/mca/anaconda3/lib/python3.12/site-packages/sklearn/base.py:376: InconsistentVersionWarning: Trying to unpickle estimator RandomForestClassifier from version 1.4.2 when using version 1.5.1. This might lead to breaking code or invalid results. Use at your own risk. For more info please refer to:\n",
      "https://scikit-learn.org/stable/model_persistence.html#security-maintainability-limitations\n",
      "  warnings.warn(\n"
     ]
    },
    {
     "name": "stdout",
     "output_type": "stream",
     "text": [
      "Starting real-time intrusion detection...\n"
     ]
    },
    {
     "name": "stderr",
     "output_type": "stream",
     "text": [
      "/tmp/ipykernel_54657/1580655942.py:27: UserWarning: Could not infer format, so each element will be parsed individually, falling back to `dateutil`. To ensure parsing is consistent and as-expected, please specify a format.\n",
      "  data['StartTime'] = pd.to_datetime(data['StartTime'], errors='coerce')\n"
     ]
    },
    {
     "name": "stdout",
     "output_type": "stream",
     "text": [
      "       StartTime        SrcAddr         DstAddr Proto State  Prediction\n",
      "5942  1741620959  192.168.1.100     192.168.1.1   tcp   CON           0\n",
      "5943  1741620959  192.168.1.100     192.168.1.1   tcp   CON           0\n",
      "5944  1741620960  192.168.1.100     192.168.1.1   tcp   CON           0\n",
      "5945  1741614599              0               0   man   STA           0\n",
      "5946  1741614593   10.220.10.66      23.9.220.6   tcp   INT           0\n",
      "5947  1741614599              0               0   man   STA           0\n",
      "5948  1741614593   10.220.10.66      23.9.220.6   tcp   INT           0\n",
      "5949  1741614594   10.220.10.66  184.86.248.112   tcp   INT           0\n",
      "5950  1741620964  192.168.1.100     192.168.1.1   tcp   CON           0\n",
      "5951  1741620964  192.168.1.100     192.168.1.1   tcp   CON           0\n"
     ]
    },
    {
     "name": "stderr",
     "output_type": "stream",
     "text": [
      "/tmp/ipykernel_54657/1580655942.py:27: UserWarning: Could not infer format, so each element will be parsed individually, falling back to `dateutil`. To ensure parsing is consistent and as-expected, please specify a format.\n",
      "  data['StartTime'] = pd.to_datetime(data['StartTime'], errors='coerce')\n"
     ]
    },
    {
     "name": "stdout",
     "output_type": "stream",
     "text": [
      "       StartTime        SrcAddr         DstAddr Proto State  Prediction\n",
      "5950  1741620964  192.168.1.100     192.168.1.1   tcp   CON           0\n",
      "5951  1741620964  192.168.1.100     192.168.1.1   tcp   CON           0\n",
      "5952  1741620965  192.168.1.100     192.168.1.1   tcp   CON           0\n",
      "5953  1741614599              0               0   man   STA           0\n",
      "5954  1741614593   10.220.10.66      23.9.220.6   tcp   INT           0\n",
      "5955  1741614599              0               0   man   STA           0\n",
      "5956  1741614593   10.220.10.66      23.9.220.6   tcp   INT           0\n",
      "5957  1741614594   10.220.10.66  184.86.248.112   tcp   INT           0\n",
      "5958  1741620969  192.168.1.100     192.168.1.1   tcp   CON           0\n",
      "5959  1741620969  192.168.1.100     192.168.1.1   tcp   CON           0\n"
     ]
    },
    {
     "name": "stderr",
     "output_type": "stream",
     "text": [
      "/tmp/ipykernel_54657/1580655942.py:27: UserWarning: Could not infer format, so each element will be parsed individually, falling back to `dateutil`. To ensure parsing is consistent and as-expected, please specify a format.\n",
      "  data['StartTime'] = pd.to_datetime(data['StartTime'], errors='coerce')\n"
     ]
    },
    {
     "name": "stdout",
     "output_type": "stream",
     "text": [
      "       StartTime        SrcAddr         DstAddr Proto State  Prediction\n",
      "5958  1741620969  192.168.1.100     192.168.1.1   tcp   CON           0\n",
      "5959  1741620969  192.168.1.100     192.168.1.1   tcp   CON           0\n",
      "5960  1741620970  192.168.1.100     192.168.1.1   tcp   CON           0\n",
      "5961  1741614599              0               0   man   STA           0\n",
      "5962  1741614593   10.220.10.66      23.9.220.6   tcp   INT           0\n",
      "5963  1741614599              0               0   man   STA           0\n",
      "5964  1741614593   10.220.10.66      23.9.220.6   tcp   INT           0\n",
      "5965  1741614594   10.220.10.66  184.86.248.112   tcp   INT           0\n",
      "5966  1741620974  192.168.1.100     192.168.1.1   tcp   CON           0\n",
      "5967  1741620974  192.168.1.100     192.168.1.1   tcp   CON           0\n"
     ]
    },
    {
     "name": "stderr",
     "output_type": "stream",
     "text": [
      "/tmp/ipykernel_54657/1580655942.py:27: UserWarning: Could not infer format, so each element will be parsed individually, falling back to `dateutil`. To ensure parsing is consistent and as-expected, please specify a format.\n",
      "  data['StartTime'] = pd.to_datetime(data['StartTime'], errors='coerce')\n"
     ]
    },
    {
     "name": "stdout",
     "output_type": "stream",
     "text": [
      "       StartTime        SrcAddr         DstAddr Proto State  Prediction\n",
      "5966  1741620974  192.168.1.100     192.168.1.1   tcp   CON           0\n",
      "5967  1741620974  192.168.1.100     192.168.1.1   tcp   CON           0\n",
      "5968  1741620975  192.168.1.100     192.168.1.1   tcp   CON           0\n",
      "5969  1741614599              0               0   man   STA           0\n",
      "5970  1741614593   10.220.10.66      23.9.220.6   tcp   INT           0\n",
      "5971  1741614599              0               0   man   STA           0\n",
      "5972  1741614593   10.220.10.66      23.9.220.6   tcp   INT           0\n",
      "5973  1741614594   10.220.10.66  184.86.248.112   tcp   INT           0\n",
      "5974  1741620979  192.168.1.100     192.168.1.1   tcp   CON           0\n",
      "5975  1741620979  192.168.1.100     192.168.1.1   tcp   CON           0\n"
     ]
    },
    {
     "name": "stderr",
     "output_type": "stream",
     "text": [
      "/tmp/ipykernel_54657/1580655942.py:27: UserWarning: Could not infer format, so each element will be parsed individually, falling back to `dateutil`. To ensure parsing is consistent and as-expected, please specify a format.\n",
      "  data['StartTime'] = pd.to_datetime(data['StartTime'], errors='coerce')\n"
     ]
    },
    {
     "name": "stdout",
     "output_type": "stream",
     "text": [
      "       StartTime        SrcAddr         DstAddr Proto State  Prediction\n",
      "5974  1741620979  192.168.1.100     192.168.1.1   tcp   CON           0\n",
      "5975  1741620979  192.168.1.100     192.168.1.1   tcp   CON           0\n",
      "5976  1741620980  192.168.1.100     192.168.1.1   tcp   CON           0\n",
      "5977  1741614599              0               0   man   STA           0\n",
      "5978  1741614593   10.220.10.66      23.9.220.6   tcp   INT           0\n",
      "5979  1741614599              0               0   man   STA           0\n",
      "5980  1741614593   10.220.10.66      23.9.220.6   tcp   INT           0\n",
      "5981  1741614594   10.220.10.66  184.86.248.112   tcp   INT           0\n",
      "5982  1741620984  192.168.1.100     192.168.1.1   tcp   CON           0\n",
      "5983  1741620984  192.168.1.100     192.168.1.1   tcp   CON           0\n"
     ]
    },
    {
     "name": "stderr",
     "output_type": "stream",
     "text": [
      "/tmp/ipykernel_54657/1580655942.py:27: UserWarning: Could not infer format, so each element will be parsed individually, falling back to `dateutil`. To ensure parsing is consistent and as-expected, please specify a format.\n",
      "  data['StartTime'] = pd.to_datetime(data['StartTime'], errors='coerce')\n"
     ]
    },
    {
     "name": "stdout",
     "output_type": "stream",
     "text": [
      "       StartTime        SrcAddr         DstAddr Proto State  Prediction\n",
      "5982  1741620984  192.168.1.100     192.168.1.1   tcp   CON           0\n",
      "5983  1741620984  192.168.1.100     192.168.1.1   tcp   CON           0\n",
      "5984  1741620985  192.168.1.100     192.168.1.1   tcp   CON           0\n",
      "5985  1741614599              0               0   man   STA           0\n",
      "5986  1741614593   10.220.10.66      23.9.220.6   tcp   INT           0\n",
      "5987  1741614599              0               0   man   STA           0\n",
      "5988  1741614593   10.220.10.66      23.9.220.6   tcp   INT           0\n",
      "5989  1741614594   10.220.10.66  184.86.248.112   tcp   INT           0\n",
      "5990  1741620989  192.168.1.100     192.168.1.1   tcp   CON           0\n",
      "5991  1741620989  192.168.1.100     192.168.1.1   tcp   CON           0\n"
     ]
    },
    {
     "name": "stderr",
     "output_type": "stream",
     "text": [
      "/tmp/ipykernel_54657/1580655942.py:27: UserWarning: Could not infer format, so each element will be parsed individually, falling back to `dateutil`. To ensure parsing is consistent and as-expected, please specify a format.\n",
      "  data['StartTime'] = pd.to_datetime(data['StartTime'], errors='coerce')\n"
     ]
    },
    {
     "name": "stdout",
     "output_type": "stream",
     "text": [
      "       StartTime        SrcAddr         DstAddr Proto State  Prediction\n",
      "5990  1741620989  192.168.1.100     192.168.1.1   tcp   CON           0\n",
      "5991  1741620989  192.168.1.100     192.168.1.1   tcp   CON           0\n",
      "5992  1741620990  192.168.1.100     192.168.1.1   tcp   CON           0\n",
      "5993  1741614599              0               0   man   STA           0\n",
      "5994  1741614593   10.220.10.66      23.9.220.6   tcp   INT           0\n",
      "5995  1741614599              0               0   man   STA           0\n",
      "5996  1741614593   10.220.10.66      23.9.220.6   tcp   INT           0\n",
      "5997  1741614594   10.220.10.66  184.86.248.112   tcp   INT           0\n",
      "5998  1741620994  192.168.1.100     192.168.1.1   tcp   CON           0\n",
      "5999  1741620994  192.168.1.100     192.168.1.1   tcp   CON           0\n"
     ]
    },
    {
     "name": "stderr",
     "output_type": "stream",
     "text": [
      "/tmp/ipykernel_54657/1580655942.py:27: UserWarning: Could not infer format, so each element will be parsed individually, falling back to `dateutil`. To ensure parsing is consistent and as-expected, please specify a format.\n",
      "  data['StartTime'] = pd.to_datetime(data['StartTime'], errors='coerce')\n"
     ]
    },
    {
     "name": "stdout",
     "output_type": "stream",
     "text": [
      "       StartTime        SrcAddr         DstAddr Proto State  Prediction\n",
      "5998  1741620994  192.168.1.100     192.168.1.1   tcp   CON           0\n",
      "5999  1741620994  192.168.1.100     192.168.1.1   tcp   CON           0\n",
      "6000  1741620995  192.168.1.100     192.168.1.1   tcp   CON           0\n",
      "6001  1741614599              0               0   man   STA           0\n",
      "6002  1741614593   10.220.10.66      23.9.220.6   tcp   INT           0\n",
      "6003  1741614599              0               0   man   STA           0\n",
      "6004  1741614593   10.220.10.66      23.9.220.6   tcp   INT           0\n",
      "6005  1741614594   10.220.10.66  184.86.248.112   tcp   INT           0\n",
      "6006  1741620999  192.168.1.100     192.168.1.1   tcp   CON           0\n",
      "6007  1741620999  192.168.1.100     192.168.1.1   tcp   CON           0\n"
     ]
    },
    {
     "name": "stderr",
     "output_type": "stream",
     "text": [
      "/tmp/ipykernel_54657/1580655942.py:27: UserWarning: Could not infer format, so each element will be parsed individually, falling back to `dateutil`. To ensure parsing is consistent and as-expected, please specify a format.\n",
      "  data['StartTime'] = pd.to_datetime(data['StartTime'], errors='coerce')\n"
     ]
    },
    {
     "name": "stdout",
     "output_type": "stream",
     "text": [
      "       StartTime        SrcAddr         DstAddr Proto State  Prediction\n",
      "6006  1741620999  192.168.1.100     192.168.1.1   tcp   CON           0\n",
      "6007  1741620999  192.168.1.100     192.168.1.1   tcp   CON           0\n",
      "6008  1741621000  192.168.1.100     192.168.1.1   tcp   CON           0\n",
      "6009  1741614599              0               0   man   STA           0\n",
      "6010  1741614593   10.220.10.66      23.9.220.6   tcp   INT           0\n",
      "6011  1741614599              0               0   man   STA           0\n",
      "6012  1741614593   10.220.10.66      23.9.220.6   tcp   INT           0\n",
      "6013  1741614594   10.220.10.66  184.86.248.112   tcp   INT           0\n",
      "6014  1741621004  192.168.1.100     192.168.1.1   tcp   CON           0\n",
      "6015  1741621004  192.168.1.100     192.168.1.1   tcp   CON           0\n"
     ]
    },
    {
     "name": "stderr",
     "output_type": "stream",
     "text": [
      "/tmp/ipykernel_54657/1580655942.py:27: UserWarning: Could not infer format, so each element will be parsed individually, falling back to `dateutil`. To ensure parsing is consistent and as-expected, please specify a format.\n",
      "  data['StartTime'] = pd.to_datetime(data['StartTime'], errors='coerce')\n"
     ]
    },
    {
     "name": "stdout",
     "output_type": "stream",
     "text": [
      "       StartTime        SrcAddr         DstAddr Proto State  Prediction\n",
      "6015  1741621004  192.168.1.100     192.168.1.1   tcp   CON           0\n",
      "6016  1741621005  192.168.1.100     192.168.1.1   tcp   CON           0\n",
      "6017  1741614599              0               0   man   STA           0\n",
      "6018  1741614593   10.220.10.66      23.9.220.6   tcp   INT           0\n",
      "6019  1741614599              0               0   man   STA           0\n",
      "6020  1741614593   10.220.10.66      23.9.220.6   tcp   INT           0\n",
      "6021  1741614594   10.220.10.66  184.86.248.112   tcp   INT           0\n",
      "6022  1741621009  192.168.1.100     192.168.1.1   tcp   CON           0\n",
      "6023  1741621009  192.168.1.100     192.168.1.1   tcp   CON           0\n",
      "6024  1741621010  192.168.1.100     192.168.1.1   tcp   CON           0\n"
     ]
    },
    {
     "name": "stderr",
     "output_type": "stream",
     "text": [
      "/tmp/ipykernel_54657/1580655942.py:27: UserWarning: Could not infer format, so each element will be parsed individually, falling back to `dateutil`. To ensure parsing is consistent and as-expected, please specify a format.\n",
      "  data['StartTime'] = pd.to_datetime(data['StartTime'], errors='coerce')\n"
     ]
    },
    {
     "name": "stdout",
     "output_type": "stream",
     "text": [
      "       StartTime        SrcAddr         DstAddr Proto State  Prediction\n",
      "6023  1741621009  192.168.1.100     192.168.1.1   tcp   CON           0\n",
      "6024  1741621010  192.168.1.100     192.168.1.1   tcp   CON           0\n",
      "6025  1741614599              0               0   man   STA           0\n",
      "6026  1741614593   10.220.10.66      23.9.220.6   tcp   INT           0\n",
      "6027  1741614599              0               0   man   STA           0\n",
      "6028  1741614593   10.220.10.66      23.9.220.6   tcp   INT           0\n",
      "6029  1741614594   10.220.10.66  184.86.248.112   tcp   INT           0\n",
      "6030  1741621014  192.168.1.100     192.168.1.1   tcp   CON           0\n",
      "6031  1741621014  192.168.1.100     192.168.1.1   tcp   CON           0\n",
      "6032  1741621015  192.168.1.100     192.168.1.1   tcp   CON           0\n"
     ]
    },
    {
     "name": "stderr",
     "output_type": "stream",
     "text": [
      "/tmp/ipykernel_54657/1580655942.py:27: UserWarning: Could not infer format, so each element will be parsed individually, falling back to `dateutil`. To ensure parsing is consistent and as-expected, please specify a format.\n",
      "  data['StartTime'] = pd.to_datetime(data['StartTime'], errors='coerce')\n"
     ]
    },
    {
     "name": "stdout",
     "output_type": "stream",
     "text": [
      "       StartTime        SrcAddr         DstAddr Proto State  Prediction\n",
      "6031  1741621014  192.168.1.100     192.168.1.1   tcp   CON           0\n",
      "6032  1741621015  192.168.1.100     192.168.1.1   tcp   CON           0\n",
      "6033  1741614599              0               0   man   STA           0\n",
      "6034  1741614593   10.220.10.66      23.9.220.6   tcp   INT           0\n",
      "6035  1741614599              0               0   man   STA           0\n",
      "6036  1741614593   10.220.10.66      23.9.220.6   tcp   INT           0\n",
      "6037  1741614594   10.220.10.66  184.86.248.112   tcp   INT           0\n",
      "6038  1741621019  192.168.1.100     192.168.1.1   tcp   CON           0\n",
      "6039  1741621019  192.168.1.100     192.168.1.1   tcp   CON           0\n",
      "6040  1741621020  192.168.1.100     192.168.1.1   tcp   CON           0\n"
     ]
    },
    {
     "ename": "KeyboardInterrupt",
     "evalue": "",
     "output_type": "error",
     "traceback": [
      "\u001b[0;31m---------------------------------------------------------------------------\u001b[0m",
      "\u001b[0;31mKeyboardInterrupt\u001b[0m                         Traceback (most recent call last)",
      "Cell \u001b[0;32mIn[39], line 76\u001b[0m\n\u001b[1;32m     74\u001b[0m latest_data \u001b[38;5;241m=\u001b[39m get_latest_data(csv_file)\n\u001b[1;32m     75\u001b[0m predict_intrusions(latest_data)\n\u001b[0;32m---> 76\u001b[0m time\u001b[38;5;241m.\u001b[39msleep(\u001b[38;5;241m5\u001b[39m)\n",
      "\u001b[0;31mKeyboardInterrupt\u001b[0m: "
     ]
    }
   ],
   "source": [
    "import pandas as pd\n",
    "import joblib\n",
    "import time\n",
    "import os\n",
    "from datetime import datetime\n",
    "\n",
    "# Load the saved model and preprocessing assets\n",
    "model = joblib.load('model.pkl')\n",
    "categorical_columns = joblib.load('rfca.pkl')\n",
    "saved_features = joblib.load('features.pkl')\n",
    "\n",
    "# Path to the continuously updating CSV file\n",
    "csv_file = 'network_flowsss.csv'\n",
    "\n",
    "# Function to read the latest data from the CSV\n",
    "def get_latest_data(file_path):\n",
    "    try:\n",
    "        data = pd.read_csv(file_path)\n",
    "        return data.tail(10)  # Adjust the number for recent rows to check\n",
    "    except Exception as e:\n",
    "        print(f\"Error reading CSV: {e}\")\n",
    "        return pd.DataFrame()\n",
    "\n",
    "# Convert StartTime to datetime format and seconds since epoch\n",
    "def convert_start_time(data):\n",
    "    try:\n",
    "        data['StartTime'] = pd.to_datetime(data['StartTime'], errors='coerce')\n",
    "        data['StartTime'] = data['StartTime'].astype('int64') // 10**9\n",
    "    except Exception as e:\n",
    "        print(f\"Error converting StartTime: {e}\")\n",
    "    return data\n",
    "\n",
    "# Preprocessing: convert time, handle nulls, and match feature set\n",
    "# Preprocessing: convert time, handle nulls, and match feature set\n",
    "def preprocess_data(data):\n",
    "    try:\n",
    "        data = convert_start_time(data)\n",
    "        data = data.fillna(0)  # Fill all null values with 0\n",
    "\n",
    "        # One-hot encode categorical columns\n",
    "        data = pd.get_dummies(data, columns=categorical_columns)\n",
    "\n",
    "        # Add any missing columns with zeros using pd.concat\n",
    "        missing_cols = [col for col in saved_features if col not in data.columns]\n",
    "        if missing_cols:\n",
    "            # Create a DataFrame of missing columns filled with zeros\n",
    "            missing_data = pd.DataFrame(0, index=data.index, columns=missing_cols)\n",
    "            # Concatenate the new columns to the original DataFrame\n",
    "            data = pd.concat([data, missing_data], axis=1)\n",
    "\n",
    "        # Reorder columns to match training data\n",
    "        data = data[saved_features]\n",
    "        return data\n",
    "    except Exception as e:\n",
    "        print(f\"Error during preprocessing: {e}\")\n",
    "        return pd.DataFrame()\n",
    "\n",
    "\n",
    "# Make predictions\n",
    "def predict_intrusions(data):\n",
    "    if data.empty:\n",
    "        return\n",
    "    try:\n",
    "        processed_data = preprocess_data(data)\n",
    "        predictions = model.predict(processed_data)\n",
    "        data['Prediction'] = predictions\n",
    "        print(data[['StartTime', 'SrcAddr', 'DstAddr', 'Proto', 'State', 'Prediction']])\n",
    "    except Exception as e:\n",
    "        print(f\"Error during prediction: {e}\")\n",
    "\n",
    "# Real-time intrusion detection loop\n",
    "print(\"Starting real-time intrusion detection...\")\n",
    "while True:\n",
    "    latest_data = get_latest_data(csv_file)\n",
    "    predict_intrusions(latest_data)\n",
    "    time.sleep(5)  # Adjust for desired update frequency\n"
   ]
  },
  {
   "cell_type": "code",
   "execution_count": 25,
   "id": "c679ccf6-1de7-4c5f-a1a9-e7511ec5630d",
   "metadata": {},
   "outputs": [
    {
     "name": "stdout",
     "output_type": "stream",
     "text": [
      "          StartTime        Flgs Proto        SrcAddr        DstAddr State  \\\n",
      "0   10:04:24.304977               man              0              0   STA   \n",
      "1   10:04:18.957518   e           tcp  10.220.10.107  142.250.77.42   CON   \n",
      "2   10:04:19.313974   e           tcp  10.220.10.107   35.190.2.239   CON   \n",
      "3   10:04:25.178708               man              0            100   CON   \n",
      "4   10:04:24.304977               man              0              0   STA   \n",
      "5   10:04:18.957518   e           tcp  10.220.10.107  142.250.77.42   CON   \n",
      "6   10:04:19.313974   e           tcp  10.220.10.107   35.190.2.239   CON   \n",
      "7   10:04:25.178708               man              0            100   CON   \n",
      "8   10:04:24.304977               man              0              0   STA   \n",
      "9   10:04:18.957518   e           tcp  10.220.10.107  142.250.77.42   CON   \n",
      "10  10:04:19.313974   e           tcp  10.220.10.107   35.190.2.239   CON   \n",
      "11  10:04:25.178708               man              0            100   CON   \n",
      "12  10:04:24.304977               man              0              0   STA   \n",
      "13  10:04:18.957518   e           tcp  10.220.10.107  142.250.77.42   CON   \n",
      "14  10:04:19.313974   e           tcp  10.220.10.107   35.190.2.239   CON   \n",
      "15  10:04:25.178708               man              0            100   CON   \n",
      "16  10:04:24.304977               man              0              0   STA   \n",
      "17  10:04:18.957518   e           tcp  10.220.10.107  142.250.77.42   CON   \n",
      "18  10:04:19.313974   e           tcp  10.220.10.107   35.190.2.239   CON   \n",
      "19  10:04:25.178708               man              0            100   CON   \n",
      "\n",
      "          Dur  SrcRate  DstRate  SrcPkts  DstPkts  SrcBytes  DstBytes  StdDev  \n",
      "0   59.039074      0.0      0.0        0        0         0         0     NaN  \n",
      "1    0.000000      0.0      0.0        0        1         0        66     0.0  \n",
      "2    0.000000      0.0      0.0        0        1         0        66     0.0  \n",
      "3   59.912804      0.0      0.0      438      156     99565         0     NaN  \n",
      "4   59.039074      0.0      0.0        0        0         0         0     NaN  \n",
      "5    0.000000      0.0      0.0        0        1         0        66     0.0  \n",
      "6    0.000000      0.0      0.0        0        1         0        66     0.0  \n",
      "7   59.912804      0.0      0.0      438      156     99565         0     NaN  \n",
      "8   59.039074      0.0      0.0        0        0         0         0     NaN  \n",
      "9    0.000000      0.0      0.0        0        1         0        66     0.0  \n",
      "10   0.000000      0.0      0.0        0        1         0        66     0.0  \n",
      "11  59.912804      0.0      0.0      438      156     99565         0     NaN  \n",
      "12  59.039074      0.0      0.0        0        0         0         0     NaN  \n",
      "13   0.000000      0.0      0.0        0        1         0        66     0.0  \n",
      "14   0.000000      0.0      0.0        0        1         0        66     0.0  \n",
      "15  59.912804      0.0      0.0      438      156     99565         0     NaN  \n",
      "16  59.039074      0.0      0.0        0        0         0         0     NaN  \n",
      "17   0.000000      0.0      0.0        0        1         0        66     0.0  \n",
      "18   0.000000      0.0      0.0        0        1         0        66     0.0  \n",
      "19  59.912804      0.0      0.0      438      156     99565         0     NaN  \n"
     ]
    }
   ],
   "source": [
    "import pandas as pd\n",
    "\n",
    "file_path = 'network_flows16.csv'\n",
    "df = pd.read_csv(file_path)\n",
    "print(df.head(20))  # Show the first 20 rows\n"
   ]
  },
  {
   "cell_type": "code",
   "execution_count": 29,
   "id": "4550576d-df8a-4b14-befe-729e25887c59",
   "metadata": {},
   "outputs": [
    {
     "name": "stdout",
     "output_type": "stream",
     "text": [
      "Reading CSV file at: network_flows16.csv\n",
      "           StartTime        Flgs Proto        SrcAddr        DstAddr State  \\\n",
      "0    10:04:24.304977               man              0              0   STA   \n",
      "1    10:04:18.957518   e           tcp  10.220.10.107  142.250.77.42   CON   \n",
      "2    10:04:19.313974   e           tcp  10.220.10.107   35.190.2.239   CON   \n",
      "3    10:04:25.178708               man              0            100   CON   \n",
      "4    10:04:24.304977               man              0              0   STA   \n",
      "..               ...         ...   ...            ...            ...   ...   \n",
      "651  10:04:25.178708               man              0            100   CON   \n",
      "652  10:04:24.304977               man              0              0   STA   \n",
      "653  10:04:18.957518   e           tcp  10.220.10.107  142.250.77.42   CON   \n",
      "654  10:04:19.313974   e           tcp  10.220.10.107   35.190.2.239   CON   \n",
      "655  10:04:25.178708               man              0            100   CON   \n",
      "\n",
      "           Dur  SrcRate  DstRate  SrcPkts  DstPkts  SrcBytes  DstBytes  StdDev  \n",
      "0    59.039074      0.0      0.0        0        0         0         0     NaN  \n",
      "1     0.000000      0.0      0.0        0        1         0        66     0.0  \n",
      "2     0.000000      0.0      0.0        0        1         0        66     0.0  \n",
      "3    59.912804      0.0      0.0      438      156     99565         0     NaN  \n",
      "4    59.039074      0.0      0.0        0        0         0         0     NaN  \n",
      "..         ...      ...      ...      ...      ...       ...       ...     ...  \n",
      "651  59.912804      0.0      0.0      438      156     99565         0     NaN  \n",
      "652  59.039074      0.0      0.0        0        0         0         0     NaN  \n",
      "653   0.000000      0.0      0.0        0        1         0        66     0.0  \n",
      "654   0.000000      0.0      0.0        0        1         0        66     0.0  \n",
      "655  59.912804      0.0      0.0      438      156     99565         0     NaN  \n",
      "\n",
      "[656 rows x 14 columns]\n"
     ]
    }
   ],
   "source": [
    "print(\"Reading CSV file at:\", file_path)\n",
    "print(df)\n"
   ]
  },
  {
   "cell_type": "code",
   "execution_count": null,
   "id": "87dbea41-11a5-49f5-8822-c1418069c566",
   "metadata": {},
   "outputs": [],
   "source": []
  }
 ],
 "metadata": {
  "kernelspec": {
   "display_name": "Python [conda env:base] *",
   "language": "python",
   "name": "conda-base-py"
  },
  "language_info": {
   "codemirror_mode": {
    "name": "ipython",
    "version": 3
   },
   "file_extension": ".py",
   "mimetype": "text/x-python",
   "name": "python",
   "nbconvert_exporter": "python",
   "pygments_lexer": "ipython3",
   "version": "3.12.7"
  }
 },
 "nbformat": 4,
 "nbformat_minor": 5
}
