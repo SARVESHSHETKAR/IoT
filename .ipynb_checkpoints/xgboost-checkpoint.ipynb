{
 "cells": [
  {
   "cell_type": "code",
   "execution_count": 5,
   "id": "489e74a5-fce3-4525-8b2e-921e6c92fa2f",
   "metadata": {},
   "outputs": [
    {
     "name": "stderr",
     "output_type": "stream",
     "text": [
      "C:\\Users\\2002f\\Downloads\\Anaconda\\Lib\\site-packages\\xgboost\\core.py:158: UserWarning: [10:49:38] WARNING: C:\\buildkite-agent\\builds\\buildkite-windows-cpu-autoscaling-group-i-0c55ff5f71b100e98-1\\xgboost\\xgboost-ci-windows\\src\\learner.cc:740: \n",
      "Parameters: { \"use_label_encoder\" } are not used.\n",
      "\n",
      "  warnings.warn(smsg, UserWarning)\n",
      "C:\\Users\\2002f\\Downloads\\Anaconda\\Lib\\site-packages\\xgboost\\core.py:158: UserWarning: [10:49:50] WARNING: C:\\buildkite-agent\\builds\\buildkite-windows-cpu-autoscaling-group-i-0c55ff5f71b100e98-1\\xgboost\\xgboost-ci-windows\\src\\learner.cc:740: \n",
      "Parameters: { \"use_label_encoder\" } are not used.\n",
      "\n",
      "  warnings.warn(smsg, UserWarning)\n",
      "C:\\Users\\2002f\\Downloads\\Anaconda\\Lib\\site-packages\\xgboost\\core.py:158: UserWarning: [10:49:59] WARNING: C:\\buildkite-agent\\builds\\buildkite-windows-cpu-autoscaling-group-i-0c55ff5f71b100e98-1\\xgboost\\xgboost-ci-windows\\src\\learner.cc:740: \n",
      "Parameters: { \"use_label_encoder\" } are not used.\n",
      "\n",
      "  warnings.warn(smsg, UserWarning)\n",
      "C:\\Users\\2002f\\Downloads\\Anaconda\\Lib\\site-packages\\xgboost\\core.py:158: UserWarning: [10:50:08] WARNING: C:\\buildkite-agent\\builds\\buildkite-windows-cpu-autoscaling-group-i-0c55ff5f71b100e98-1\\xgboost\\xgboost-ci-windows\\src\\learner.cc:740: \n",
      "Parameters: { \"use_label_encoder\" } are not used.\n",
      "\n",
      "  warnings.warn(smsg, UserWarning)\n",
      "C:\\Users\\2002f\\Downloads\\Anaconda\\Lib\\site-packages\\xgboost\\core.py:158: UserWarning: [10:50:16] WARNING: C:\\buildkite-agent\\builds\\buildkite-windows-cpu-autoscaling-group-i-0c55ff5f71b100e98-1\\xgboost\\xgboost-ci-windows\\src\\learner.cc:740: \n",
      "Parameters: { \"use_label_encoder\" } are not used.\n",
      "\n",
      "  warnings.warn(smsg, UserWarning)\n",
      "C:\\Users\\2002f\\Downloads\\Anaconda\\Lib\\site-packages\\xgboost\\core.py:158: UserWarning: [10:50:24] WARNING: C:\\buildkite-agent\\builds\\buildkite-windows-cpu-autoscaling-group-i-0c55ff5f71b100e98-1\\xgboost\\xgboost-ci-windows\\src\\learner.cc:740: \n",
      "Parameters: { \"use_label_encoder\" } are not used.\n",
      "\n",
      "  warnings.warn(smsg, UserWarning)\n"
     ]
    },
    {
     "name": "stdout",
     "output_type": "stream",
     "text": [
      "Training Accuracy: 0.9999\n",
      "Testing Accuracy: 0.9997\n",
      "Cross-Validation Score (mean): 0.9996\n"
     ]
    }
   ],
   "source": [
    "import pandas as pd\n",
    "from sklearn.model_selection import train_test_split, cross_val_score\n",
    "from xgboost import XGBClassifier\n",
    "from sklearn.metrics import accuracy_score\n",
    "\n",
    "# Load the dataset\n",
    "file_path = \"iot5_undersampled.csv\"  # Ensure this file exists\n",
    "df = pd.read_csv(file_path)\n",
    "\n",
    "# Identify the target column\n",
    "target_column = 'attack'  # Modify if needed\n",
    "\n",
    "# Splitting features and target\n",
    "X = df.drop(columns=[target_column])\n",
    "y = df[target_column]\n",
    "\n",
    "# Convert categorical variables to numerical\n",
    "X = pd.get_dummies(X)\n",
    "\n",
    "# Fill missing values\n",
    "X = X.apply(pd.to_numeric, errors='coerce')\n",
    "X.fillna(X.mean(), inplace=True)\n",
    "\n",
    "# Split into training and testing sets\n",
    "X_train, X_test, y_train, y_test = train_test_split(X, y, test_size=0.2, random_state=42, stratify=y)\n",
    "\n",
    "# Define XGBoost model\n",
    "xgb_clf = XGBClassifier(\n",
    "    n_estimators=100,   # Number of trees\n",
    "    max_depth=5,        # Depth of trees\n",
    "    learning_rate=0.1,  # Step size\n",
    "    subsample=0.8,      # Fraction of data to use per tree\n",
    "    colsample_bytree=0.8, # Fraction of features per tree\n",
    "    random_state=42,\n",
    "    use_label_encoder=False,\n",
    "    eval_metric=\"logloss\"\n",
    ")\n",
    "\n",
    "# Train the model\n",
    "xgb_clf.fit(X_train, y_train)\n",
    "\n",
    "# Evaluate model\n",
    "train_acc = accuracy_score(y_train, xgb_clf.predict(X_train))\n",
    "test_acc = accuracy_score(y_test, xgb_clf.predict(X_test))\n",
    "cv_scores = cross_val_score(xgb_clf, X_train, y_train, cv=5)\n",
    "\n",
    "print(f\"Training Accuracy: {train_acc:.4f}\")\n",
    "print(f\"Testing Accuracy: {test_acc:.4f}\")\n",
    "print(f\"Cross-Validation Score (mean): {cv_scores.mean():.4f}\")\n"
   ]
  },
  {
   "cell_type": "code",
   "execution_count": 1,
   "id": "dc6c63af-b3f0-4b54-8cc1-1b66fc81b023",
   "metadata": {},
   "outputs": [],
   "source": []
  },
  {
   "cell_type": "code",
   "execution_count": 7,
   "id": "82c268c7-1881-4379-b2af-aba8e394f0a5",
   "metadata": {},
   "outputs": [
    {
     "name": "stdout",
     "output_type": "stream",
     "text": [
      "✅ Model saved successfully as 'xgmodel.pkl'\n"
     ]
    }
   ],
   "source": [
    "import joblib\n",
    "\n",
    "# Save the trained model\n",
    "joblib.dump(xgb_clf, \"xgmodel.pkl\")  # Replace 'model' with your trained Random Forest model\n",
    "print(\"✅ Model saved successfully as 'xgmodel.pkl'\")"
   ]
  },
  {
   "cell_type": "code",
   "execution_count": 9,
   "id": "8001b4c6-5b3f-40d0-9ff0-c4f85a983a15",
   "metadata": {},
   "outputs": [
    {
     "name": "stdout",
     "output_type": "stream",
     "text": [
      "Features and categorical columns saved successfully!\n"
     ]
    }
   ],
   "source": [
    "import joblib\n",
    "\n",
    "# Save the feature names (column names after preprocessing)\n",
    "joblib.dump(X.columns.tolist(), \"xgfeatures.pkl\")\n",
    "\n",
    "# Identify categorical columns before one-hot encoding\n",
    "categorical_columns = ['Flgs', 'Proto', 'SrcAddr', 'DstAddr', 'State']  # Modify based on your dataset\n",
    "\n",
    "# Save the categorical column names\n",
    "joblib.dump(categorical_columns, \"xgca.pkl\")\n",
    "\n",
    "print(\"Features and categorical columns saved successfully!\")\n"
   ]
  },
  {
   "cell_type": "code",
   "execution_count": null,
   "id": "ac069f74-54e3-46c2-9651-990050f84fae",
   "metadata": {},
   "outputs": [],
   "source": []
  }
 ],
 "metadata": {
  "kernelspec": {
   "display_name": "Python 3 (ipykernel)",
   "language": "python",
   "name": "python3"
  },
  "language_info": {
   "codemirror_mode": {
    "name": "ipython",
    "version": 3
   },
   "file_extension": ".py",
   "mimetype": "text/x-python",
   "name": "python",
   "nbconvert_exporter": "python",
   "pygments_lexer": "ipython3",
   "version": "3.12.4"
  }
 },
 "nbformat": 4,
 "nbformat_minor": 5
}
