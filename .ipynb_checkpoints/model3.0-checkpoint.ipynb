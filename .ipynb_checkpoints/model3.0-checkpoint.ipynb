{
 "cells": [
  {
   "cell_type": "code",
   "execution_count": 11,
   "id": "ec709c1f-c193-423c-acc7-ebe5e71f1d03",
   "metadata": {
    "scrolled": true
   },
   "outputs": [
    {
     "name": "stdout",
     "output_type": "stream",
     "text": [
      "Starting real-time intrusion detection...\n",
      "\n"
     ]
    },
    {
     "name": "stderr",
     "output_type": "stream",
     "text": [
      "/tmp/ipykernel_3945/1052911994.py:26: UserWarning: Could not infer format, so each element will be parsed individually, falling back to `dateutil`. To ensure parsing is consistent and as-expected, please specify a format.\n",
      "  data['StartTime'] = pd.to_datetime(data['StartTime'], errors='coerce')\n"
     ]
    },
    {
     "name": "stdout",
     "output_type": "stream",
     "text": [
      "\n",
      "==================================================\n",
      "Real-time Network Flows\n",
      "==================================================\n",
      "       StartTime       SrcAddr         DstAddr Proto State Prediction\n",
      "2305  1741700999             0               0   man   STA     normal\n",
      "2306  1741700993  10.220.10.66      23.9.220.6   tcp   INT     normal\n",
      "2307  1741700999             0               0   man   STA     normal\n",
      "2308  1741700993  10.220.10.66      23.9.220.6   tcp   INT     normal\n",
      "2309  1741700994  10.220.10.66  184.86.248.112   tcp   INT     normal\n",
      "2310  1741700999             0               0   man   STA     normal\n",
      "2311  1741700993  10.220.10.66      23.9.220.6   tcp   INT     normal\n",
      "2312  1741700999             0               0   man   STA     normal\n",
      "2313  1741700993  10.220.10.66      23.9.220.6   tcp   INT     normal\n",
      "2314  1741700994  10.220.10.66  184.86.248.112   tcp   INT     normal\n",
      "--------------------------------------------------\n",
      "\n"
     ]
    },
    {
     "name": "stderr",
     "output_type": "stream",
     "text": [
      "/tmp/ipykernel_3945/1052911994.py:26: UserWarning: Could not infer format, so each element will be parsed individually, falling back to `dateutil`. To ensure parsing is consistent and as-expected, please specify a format.\n",
      "  data['StartTime'] = pd.to_datetime(data['StartTime'], errors='coerce')\n"
     ]
    },
    {
     "name": "stdout",
     "output_type": "stream",
     "text": [
      "\n",
      "==================================================\n",
      "Real-time Network Flows\n",
      "==================================================\n",
      "       StartTime       SrcAddr         DstAddr Proto State Prediction\n",
      "2310  1741700999             0               0   man   STA     normal\n",
      "2311  1741700993  10.220.10.66      23.9.220.6   tcp   INT     normal\n",
      "2312  1741700999             0               0   man   STA     normal\n",
      "2313  1741700993  10.220.10.66      23.9.220.6   tcp   INT     normal\n",
      "2314  1741700994  10.220.10.66  184.86.248.112   tcp   INT     normal\n",
      "2315  1741700999             0               0   man   STA     normal\n",
      "2316  1741700993  10.220.10.66      23.9.220.6   tcp   INT     normal\n",
      "2317  1741700999             0               0   man   STA     normal\n",
      "2318  1741700993  10.220.10.66      23.9.220.6   tcp   INT     normal\n",
      "2319  1741700994  10.220.10.66  184.86.248.112   tcp   INT     normal\n",
      "--------------------------------------------------\n",
      "\n"
     ]
    },
    {
     "name": "stderr",
     "output_type": "stream",
     "text": [
      "/tmp/ipykernel_3945/1052911994.py:26: UserWarning: Could not infer format, so each element will be parsed individually, falling back to `dateutil`. To ensure parsing is consistent and as-expected, please specify a format.\n",
      "  data['StartTime'] = pd.to_datetime(data['StartTime'], errors='coerce')\n"
     ]
    },
    {
     "name": "stdout",
     "output_type": "stream",
     "text": [
      "\n",
      "==================================================\n",
      "Real-time Network Flows\n",
      "==================================================\n",
      "       StartTime       SrcAddr         DstAddr Proto State Prediction\n",
      "2315  1741700999             0               0   man   STA     normal\n",
      "2316  1741700993  10.220.10.66      23.9.220.6   tcp   INT     normal\n",
      "2317  1741700999             0               0   man   STA     normal\n",
      "2318  1741700993  10.220.10.66      23.9.220.6   tcp   INT     normal\n",
      "2319  1741700994  10.220.10.66  184.86.248.112   tcp   INT     normal\n",
      "2320  1741700999             0               0   man   STA     normal\n",
      "2321  1741700993  10.220.10.66      23.9.220.6   tcp   INT     normal\n",
      "2322  1741700999             0               0   man   STA     normal\n",
      "2323  1741700993  10.220.10.66      23.9.220.6   tcp   INT     normal\n",
      "2324  1741700994  10.220.10.66  184.86.248.112   tcp   INT     normal\n",
      "--------------------------------------------------\n",
      "\n"
     ]
    },
    {
     "name": "stderr",
     "output_type": "stream",
     "text": [
      "/tmp/ipykernel_3945/1052911994.py:26: UserWarning: Could not infer format, so each element will be parsed individually, falling back to `dateutil`. To ensure parsing is consistent and as-expected, please specify a format.\n",
      "  data['StartTime'] = pd.to_datetime(data['StartTime'], errors='coerce')\n"
     ]
    },
    {
     "name": "stdout",
     "output_type": "stream",
     "text": [
      "\n",
      "==================================================\n",
      "Real-time Network Flows\n",
      "==================================================\n",
      "       StartTime       SrcAddr         DstAddr Proto State Prediction\n",
      "2320  1741700999             0               0   man   STA     normal\n",
      "2321  1741700993  10.220.10.66      23.9.220.6   tcp   INT     normal\n",
      "2322  1741700999             0               0   man   STA     normal\n",
      "2323  1741700993  10.220.10.66      23.9.220.6   tcp   INT     normal\n",
      "2324  1741700994  10.220.10.66  184.86.248.112   tcp   INT     normal\n",
      "2325  1741700999             0               0   man   STA     normal\n",
      "2326  1741700993  10.220.10.66      23.9.220.6   tcp   INT     normal\n",
      "2327  1741700999             0               0   man   STA     normal\n",
      "2328  1741700993  10.220.10.66      23.9.220.6   tcp   INT     normal\n",
      "2329  1741700994  10.220.10.66  184.86.248.112   tcp   INT     normal\n",
      "--------------------------------------------------\n",
      "\n"
     ]
    },
    {
     "name": "stderr",
     "output_type": "stream",
     "text": [
      "/tmp/ipykernel_3945/1052911994.py:26: UserWarning: Could not infer format, so each element will be parsed individually, falling back to `dateutil`. To ensure parsing is consistent and as-expected, please specify a format.\n",
      "  data['StartTime'] = pd.to_datetime(data['StartTime'], errors='coerce')\n"
     ]
    },
    {
     "name": "stdout",
     "output_type": "stream",
     "text": [
      "\n",
      "==================================================\n",
      "Real-time Network Flows\n",
      "==================================================\n",
      "       StartTime       SrcAddr         DstAddr Proto State Prediction\n",
      "2325  1741700999             0               0   man   STA     normal\n",
      "2326  1741700993  10.220.10.66      23.9.220.6   tcp   INT     normal\n",
      "2327  1741700999             0               0   man   STA     normal\n",
      "2328  1741700993  10.220.10.66      23.9.220.6   tcp   INT     normal\n",
      "2329  1741700994  10.220.10.66  184.86.248.112   tcp   INT     normal\n",
      "2330  1741700999             0               0   man   STA     normal\n",
      "2331  1741700993  10.220.10.66      23.9.220.6   tcp   INT     normal\n",
      "2332  1741700999             0               0   man   STA     normal\n",
      "2333  1741700993  10.220.10.66      23.9.220.6   tcp   INT     normal\n",
      "2334  1741700994  10.220.10.66  184.86.248.112   tcp   INT     normal\n",
      "--------------------------------------------------\n",
      "\n"
     ]
    },
    {
     "name": "stderr",
     "output_type": "stream",
     "text": [
      "/tmp/ipykernel_3945/1052911994.py:26: UserWarning: Could not infer format, so each element will be parsed individually, falling back to `dateutil`. To ensure parsing is consistent and as-expected, please specify a format.\n",
      "  data['StartTime'] = pd.to_datetime(data['StartTime'], errors='coerce')\n"
     ]
    },
    {
     "name": "stdout",
     "output_type": "stream",
     "text": [
      "\n",
      "==================================================\n",
      "Real-time Network Flows\n",
      "==================================================\n",
      "       StartTime       SrcAddr         DstAddr Proto State Prediction\n",
      "2330  1741700999             0               0   man   STA     normal\n",
      "2331  1741700993  10.220.10.66      23.9.220.6   tcp   INT     normal\n",
      "2332  1741700999             0               0   man   STA     normal\n",
      "2333  1741700993  10.220.10.66      23.9.220.6   tcp   INT     normal\n",
      "2334  1741700994  10.220.10.66  184.86.248.112   tcp   INT     normal\n",
      "2335  1741700999             0               0   man   STA     normal\n",
      "2336  1741700993  10.220.10.66      23.9.220.6   tcp   INT     normal\n",
      "2337  1741700999             0               0   man   STA     normal\n",
      "2338  1741700993  10.220.10.66      23.9.220.6   tcp   INT     normal\n",
      "2339  1741700994  10.220.10.66  184.86.248.112   tcp   INT     normal\n",
      "--------------------------------------------------\n",
      "\n"
     ]
    },
    {
     "name": "stderr",
     "output_type": "stream",
     "text": [
      "/tmp/ipykernel_3945/1052911994.py:26: UserWarning: Could not infer format, so each element will be parsed individually, falling back to `dateutil`. To ensure parsing is consistent and as-expected, please specify a format.\n",
      "  data['StartTime'] = pd.to_datetime(data['StartTime'], errors='coerce')\n"
     ]
    },
    {
     "name": "stdout",
     "output_type": "stream",
     "text": [
      "\n",
      "==================================================\n",
      "Real-time Network Flows\n",
      "==================================================\n",
      "       StartTime       SrcAddr         DstAddr Proto State Prediction\n",
      "2335  1741700999             0               0   man   STA     normal\n",
      "2336  1741700993  10.220.10.66      23.9.220.6   tcp   INT     normal\n",
      "2337  1741700999             0               0   man   STA     normal\n",
      "2338  1741700993  10.220.10.66      23.9.220.6   tcp   INT     normal\n",
      "2339  1741700994  10.220.10.66  184.86.248.112   tcp   INT     normal\n",
      "2340  1741700999             0               0   man   STA     normal\n",
      "2341  1741700993  10.220.10.66      23.9.220.6   tcp   INT     normal\n",
      "2342  1741700999             0               0   man   STA     normal\n",
      "2343  1741700993  10.220.10.66      23.9.220.6   tcp   INT     normal\n",
      "2344  1741700994  10.220.10.66  184.86.248.112   tcp   INT     normal\n",
      "--------------------------------------------------\n",
      "\n"
     ]
    },
    {
     "name": "stderr",
     "output_type": "stream",
     "text": [
      "/tmp/ipykernel_3945/1052911994.py:26: UserWarning: Could not infer format, so each element will be parsed individually, falling back to `dateutil`. To ensure parsing is consistent and as-expected, please specify a format.\n",
      "  data['StartTime'] = pd.to_datetime(data['StartTime'], errors='coerce')\n"
     ]
    },
    {
     "name": "stdout",
     "output_type": "stream",
     "text": [
      "\n",
      "==================================================\n",
      "Real-time Network Flows\n",
      "==================================================\n",
      "       StartTime       SrcAddr         DstAddr Proto State Prediction\n",
      "2340  1741700999             0               0   man   STA     normal\n",
      "2341  1741700993  10.220.10.66      23.9.220.6   tcp   INT     normal\n",
      "2342  1741700999             0               0   man   STA     normal\n",
      "2343  1741700993  10.220.10.66      23.9.220.6   tcp   INT     normal\n",
      "2344  1741700994  10.220.10.66  184.86.248.112   tcp   INT     normal\n",
      "2345  1741700999             0               0   man   STA     normal\n",
      "2346  1741700993  10.220.10.66      23.9.220.6   tcp   INT     normal\n",
      "2347  1741700999             0               0   man   STA     normal\n",
      "2348  1741700993  10.220.10.66      23.9.220.6   tcp   INT     normal\n",
      "2349  1741700994  10.220.10.66  184.86.248.112   tcp   INT     normal\n",
      "--------------------------------------------------\n",
      "\n"
     ]
    },
    {
     "name": "stderr",
     "output_type": "stream",
     "text": [
      "/tmp/ipykernel_3945/1052911994.py:26: UserWarning: Could not infer format, so each element will be parsed individually, falling back to `dateutil`. To ensure parsing is consistent and as-expected, please specify a format.\n",
      "  data['StartTime'] = pd.to_datetime(data['StartTime'], errors='coerce')\n"
     ]
    },
    {
     "name": "stdout",
     "output_type": "stream",
     "text": [
      "\n",
      "==================================================\n",
      "Real-time Network Flows\n",
      "==================================================\n",
      "       StartTime       SrcAddr         DstAddr Proto State Prediction\n",
      "2345  1741700999             0               0   man   STA     normal\n",
      "2346  1741700993  10.220.10.66      23.9.220.6   tcp   INT     normal\n",
      "2347  1741700999             0               0   man   STA     normal\n",
      "2348  1741700993  10.220.10.66      23.9.220.6   tcp   INT     normal\n",
      "2349  1741700994  10.220.10.66  184.86.248.112   tcp   INT     normal\n",
      "2350  1741700999             0               0   man   STA     normal\n",
      "2351  1741700993  10.220.10.66      23.9.220.6   tcp   INT     normal\n",
      "2352  1741700999             0               0   man   STA     normal\n",
      "2353  1741700993  10.220.10.66      23.9.220.6   tcp   INT     normal\n",
      "2354  1741700994  10.220.10.66  184.86.248.112   tcp   INT     normal\n",
      "--------------------------------------------------\n",
      "\n"
     ]
    },
    {
     "name": "stderr",
     "output_type": "stream",
     "text": [
      "/tmp/ipykernel_3945/1052911994.py:26: UserWarning: Could not infer format, so each element will be parsed individually, falling back to `dateutil`. To ensure parsing is consistent and as-expected, please specify a format.\n",
      "  data['StartTime'] = pd.to_datetime(data['StartTime'], errors='coerce')\n"
     ]
    },
    {
     "name": "stdout",
     "output_type": "stream",
     "text": [
      "\n",
      "==================================================\n",
      "Real-time Network Flows\n",
      "==================================================\n",
      "       StartTime       SrcAddr         DstAddr Proto State Prediction\n",
      "2350  1741700999             0               0   man   STA     normal\n",
      "2351  1741700993  10.220.10.66      23.9.220.6   tcp   INT     normal\n",
      "2352  1741700999             0               0   man   STA     normal\n",
      "2353  1741700993  10.220.10.66      23.9.220.6   tcp   INT     normal\n",
      "2354  1741700994  10.220.10.66  184.86.248.112   tcp   INT     normal\n",
      "2355  1741700999             0               0   man   STA     normal\n",
      "2356  1741700993  10.220.10.66      23.9.220.6   tcp   INT     normal\n",
      "2357  1741700999             0               0   man   STA     normal\n",
      "2358  1741700993  10.220.10.66      23.9.220.6   tcp   INT     normal\n",
      "2359  1741700994  10.220.10.66  184.86.248.112   tcp   INT     normal\n",
      "--------------------------------------------------\n",
      "\n"
     ]
    },
    {
     "name": "stderr",
     "output_type": "stream",
     "text": [
      "/tmp/ipykernel_3945/1052911994.py:26: UserWarning: Could not infer format, so each element will be parsed individually, falling back to `dateutil`. To ensure parsing is consistent and as-expected, please specify a format.\n",
      "  data['StartTime'] = pd.to_datetime(data['StartTime'], errors='coerce')\n"
     ]
    },
    {
     "name": "stdout",
     "output_type": "stream",
     "text": [
      "\n",
      "==================================================\n",
      "Real-time Network Flows\n",
      "==================================================\n",
      "       StartTime       SrcAddr         DstAddr Proto State Prediction\n",
      "2355  1741700999             0               0   man   STA     normal\n",
      "2356  1741700993  10.220.10.66      23.9.220.6   tcp   INT     normal\n",
      "2357  1741700999             0               0   man   STA     normal\n",
      "2358  1741700993  10.220.10.66      23.9.220.6   tcp   INT     normal\n",
      "2359  1741700994  10.220.10.66  184.86.248.112   tcp   INT     normal\n",
      "2360  1741700999             0               0   man   STA     normal\n",
      "2361  1741700993  10.220.10.66      23.9.220.6   tcp   INT     normal\n",
      "2362  1741700999             0               0   man   STA     normal\n",
      "2363  1741700993  10.220.10.66      23.9.220.6   tcp   INT     normal\n",
      "2364  1741700994  10.220.10.66  184.86.248.112   tcp   INT     normal\n",
      "--------------------------------------------------\n",
      "\n",
      "\n",
      "==================================================\n",
      "Simulating Theft Attack Flow...\n",
      "==================================================\n",
      "   StartTime        SrcAddr          DstAddr Proto State Prediction\n",
      "0          1  192.168.100.3  192.168.100.150   tcp   RST     attack\n",
      "--------------------------------------------------\n",
      "\n"
     ]
    },
    {
     "name": "stderr",
     "output_type": "stream",
     "text": [
      "/tmp/ipykernel_3945/1052911994.py:26: UserWarning: Could not infer format, so each element will be parsed individually, falling back to `dateutil`. To ensure parsing is consistent and as-expected, please specify a format.\n",
      "  data['StartTime'] = pd.to_datetime(data['StartTime'], errors='coerce')\n"
     ]
    },
    {
     "name": "stdout",
     "output_type": "stream",
     "text": [
      "\n",
      "==================================================\n",
      "Real-time Network Flows\n",
      "==================================================\n",
      "       StartTime       SrcAddr         DstAddr Proto State Prediction\n",
      "2365  1741700999             0               0   man   STA     normal\n",
      "2366  1741700993  10.220.10.66      23.9.220.6   tcp   INT     normal\n",
      "2367  1741700999             0               0   man   STA     normal\n",
      "2368  1741700993  10.220.10.66      23.9.220.6   tcp   INT     normal\n",
      "2369  1741700994  10.220.10.66  184.86.248.112   tcp   INT     normal\n",
      "2370  1741700999             0               0   man   STA     normal\n",
      "2371  1741700993  10.220.10.66      23.9.220.6   tcp   INT     normal\n",
      "2372  1741700999             0               0   man   STA     normal\n",
      "2373  1741700993  10.220.10.66      23.9.220.6   tcp   INT     normal\n",
      "2374  1741700994  10.220.10.66  184.86.248.112   tcp   INT     normal\n",
      "--------------------------------------------------\n",
      "\n"
     ]
    },
    {
     "name": "stderr",
     "output_type": "stream",
     "text": [
      "/tmp/ipykernel_3945/1052911994.py:26: UserWarning: Could not infer format, so each element will be parsed individually, falling back to `dateutil`. To ensure parsing is consistent and as-expected, please specify a format.\n",
      "  data['StartTime'] = pd.to_datetime(data['StartTime'], errors='coerce')\n"
     ]
    },
    {
     "name": "stdout",
     "output_type": "stream",
     "text": [
      "\n",
      "==================================================\n",
      "Real-time Network Flows\n",
      "==================================================\n",
      "       StartTime       SrcAddr         DstAddr Proto State Prediction\n",
      "2370  1741700999             0               0   man   STA     normal\n",
      "2371  1741700993  10.220.10.66      23.9.220.6   tcp   INT     normal\n",
      "2372  1741700999             0               0   man   STA     normal\n",
      "2373  1741700993  10.220.10.66      23.9.220.6   tcp   INT     normal\n",
      "2374  1741700994  10.220.10.66  184.86.248.112   tcp   INT     normal\n",
      "2375  1741700999             0               0   man   STA     normal\n",
      "2376  1741700993  10.220.10.66      23.9.220.6   tcp   INT     normal\n",
      "2377  1741700999             0               0   man   STA     normal\n",
      "2378  1741700993  10.220.10.66      23.9.220.6   tcp   INT     normal\n",
      "2379  1741700994  10.220.10.66  184.86.248.112   tcp   INT     normal\n",
      "--------------------------------------------------\n",
      "\n"
     ]
    },
    {
     "name": "stderr",
     "output_type": "stream",
     "text": [
      "/tmp/ipykernel_3945/1052911994.py:26: UserWarning: Could not infer format, so each element will be parsed individually, falling back to `dateutil`. To ensure parsing is consistent and as-expected, please specify a format.\n",
      "  data['StartTime'] = pd.to_datetime(data['StartTime'], errors='coerce')\n"
     ]
    },
    {
     "name": "stdout",
     "output_type": "stream",
     "text": [
      "\n",
      "==================================================\n",
      "Real-time Network Flows\n",
      "==================================================\n",
      "       StartTime       SrcAddr         DstAddr Proto State Prediction\n",
      "2375  1741700999             0               0   man   STA     normal\n",
      "2376  1741700993  10.220.10.66      23.9.220.6   tcp   INT     normal\n",
      "2377  1741700999             0               0   man   STA     normal\n",
      "2378  1741700993  10.220.10.66      23.9.220.6   tcp   INT     normal\n",
      "2379  1741700994  10.220.10.66  184.86.248.112   tcp   INT     normal\n",
      "2380  1741700999             0               0   man   STA     normal\n",
      "2381  1741700993  10.220.10.66      23.9.220.6   tcp   INT     normal\n",
      "2382  1741700999             0               0   man   STA     normal\n",
      "2383  1741700993  10.220.10.66      23.9.220.6   tcp   INT     normal\n",
      "2384  1741700994  10.220.10.66  184.86.248.112   tcp   INT     normal\n",
      "--------------------------------------------------\n",
      "\n",
      "\n",
      "==================================================\n",
      "Simulating Theft Attack Flow...\n",
      "==================================================\n",
      "   StartTime        SrcAddr          DstAddr Proto State Prediction\n",
      "0          1  192.168.100.3  192.168.100.150   tcp   RST     attack\n",
      "--------------------------------------------------\n",
      "\n"
     ]
    },
    {
     "name": "stderr",
     "output_type": "stream",
     "text": [
      "/tmp/ipykernel_3945/1052911994.py:26: UserWarning: Could not infer format, so each element will be parsed individually, falling back to `dateutil`. To ensure parsing is consistent and as-expected, please specify a format.\n",
      "  data['StartTime'] = pd.to_datetime(data['StartTime'], errors='coerce')\n"
     ]
    },
    {
     "name": "stdout",
     "output_type": "stream",
     "text": [
      "\n",
      "==================================================\n",
      "Real-time Network Flows\n",
      "==================================================\n",
      "       StartTime       SrcAddr         DstAddr Proto State Prediction\n",
      "2380  1741700999             0               0   man   STA     normal\n",
      "2381  1741700993  10.220.10.66      23.9.220.6   tcp   INT     normal\n",
      "2382  1741700999             0               0   man   STA     normal\n",
      "2383  1741700993  10.220.10.66      23.9.220.6   tcp   INT     normal\n",
      "2384  1741700994  10.220.10.66  184.86.248.112   tcp   INT     normal\n",
      "2385  1741700999             0               0   man   STA     normal\n",
      "2386  1741700993  10.220.10.66      23.9.220.6   tcp   INT     normal\n",
      "2387  1741700999             0               0   man   STA     normal\n",
      "2388  1741700993  10.220.10.66      23.9.220.6   tcp   INT     normal\n",
      "2389  1741700994  10.220.10.66  184.86.248.112   tcp   INT     normal\n",
      "--------------------------------------------------\n",
      "\n"
     ]
    },
    {
     "name": "stderr",
     "output_type": "stream",
     "text": [
      "/tmp/ipykernel_3945/1052911994.py:26: UserWarning: Could not infer format, so each element will be parsed individually, falling back to `dateutil`. To ensure parsing is consistent and as-expected, please specify a format.\n",
      "  data['StartTime'] = pd.to_datetime(data['StartTime'], errors='coerce')\n"
     ]
    },
    {
     "name": "stdout",
     "output_type": "stream",
     "text": [
      "\n",
      "==================================================\n",
      "Real-time Network Flows\n",
      "==================================================\n",
      "       StartTime       SrcAddr         DstAddr Proto State Prediction\n",
      "2385  1741700999             0               0   man   STA     normal\n",
      "2386  1741700993  10.220.10.66      23.9.220.6   tcp   INT     normal\n",
      "2387  1741700999             0               0   man   STA     normal\n",
      "2388  1741700993  10.220.10.66      23.9.220.6   tcp   INT     normal\n",
      "2389  1741700994  10.220.10.66  184.86.248.112   tcp   INT     normal\n",
      "2390  1741700999             0               0   man   STA     normal\n",
      "2391  1741700993  10.220.10.66      23.9.220.6   tcp   INT     normal\n",
      "2392  1741700999             0               0   man   STA     normal\n",
      "2393  1741700993  10.220.10.66      23.9.220.6   tcp   INT     normal\n",
      "2394  1741700994  10.220.10.66  184.86.248.112   tcp   INT     normal\n",
      "--------------------------------------------------\n",
      "\n"
     ]
    },
    {
     "name": "stderr",
     "output_type": "stream",
     "text": [
      "/tmp/ipykernel_3945/1052911994.py:26: UserWarning: Could not infer format, so each element will be parsed individually, falling back to `dateutil`. To ensure parsing is consistent and as-expected, please specify a format.\n",
      "  data['StartTime'] = pd.to_datetime(data['StartTime'], errors='coerce')\n"
     ]
    },
    {
     "name": "stdout",
     "output_type": "stream",
     "text": [
      "\n",
      "==================================================\n",
      "Real-time Network Flows\n",
      "==================================================\n",
      "       StartTime       SrcAddr         DstAddr Proto State Prediction\n",
      "2390  1741700999             0               0   man   STA     normal\n",
      "2391  1741700993  10.220.10.66      23.9.220.6   tcp   INT     normal\n",
      "2392  1741700999             0               0   man   STA     normal\n",
      "2393  1741700993  10.220.10.66      23.9.220.6   tcp   INT     normal\n",
      "2394  1741700994  10.220.10.66  184.86.248.112   tcp   INT     normal\n",
      "2395  1741700999             0               0   man   STA     normal\n",
      "2396  1741700993  10.220.10.66      23.9.220.6   tcp   INT     normal\n",
      "2397  1741700999             0               0   man   STA     normal\n",
      "2398  1741700993  10.220.10.66      23.9.220.6   tcp   INT     normal\n",
      "2399  1741700994  10.220.10.66  184.86.248.112   tcp   INT     normal\n",
      "--------------------------------------------------\n",
      "\n"
     ]
    },
    {
     "ename": "KeyboardInterrupt",
     "evalue": "",
     "output_type": "error",
     "traceback": [
      "\u001b[0;31m---------------------------------------------------------------------------\u001b[0m",
      "\u001b[0;31mKeyboardInterrupt\u001b[0m                         Traceback (most recent call last)",
      "Cell \u001b[0;32mIn[11], line 145\u001b[0m\n\u001b[1;32m    142\u001b[0m         simulated_attack \u001b[38;5;241m=\u001b[39m simulate_attack_flow(attack_type)\n\u001b[1;32m    143\u001b[0m         predict_intrusions(simulated_attack, attack_type)\n\u001b[0;32m--> 145\u001b[0m time\u001b[38;5;241m.\u001b[39msleep(\u001b[38;5;241m5\u001b[39m)\n",
      "\u001b[0;31mKeyboardInterrupt\u001b[0m: "
     ]
    }
   ],
   "source": [
    "import pandas as pd\n",
    "import joblib\n",
    "import time\n",
    "from datetime import datetime\n",
    "\n",
    "# Load the saved model and preprocessing assets\n",
    "model = joblib.load('xgmodel.pkl')\n",
    "categorical_columns = joblib.load('xgca.pkl')\n",
    "saved_features = joblib.load('xgfeatures.pkl')\n",
    "\n",
    "# Path to the continuously updating CSV file\n",
    "csv_file = 'network_flows201.csv'\n",
    "\n",
    "# Function to read the latest data from the CSV\n",
    "def get_latest_data(file_path):\n",
    "    try:\n",
    "        data = pd.read_csv(file_path)\n",
    "        return data.tail(10)  # Adjust the number for recent rows to check\n",
    "    except Exception as e:\n",
    "        print(f\"Error reading CSV: {e}\")\n",
    "        return pd.DataFrame()\n",
    "\n",
    "# Convert StartTime to datetime format and seconds since epoch\n",
    "def convert_start_time(data):\n",
    "    try:\n",
    "        data['StartTime'] = pd.to_datetime(data['StartTime'], errors='coerce')\n",
    "        data['StartTime'] = data['StartTime'].astype('int64') // 10**9\n",
    "    except Exception as e:\n",
    "        print(f\"Error converting StartTime: {e}\")\n",
    "    return data\n",
    "\n",
    "# Preprocessing: convert time, handle nulls, and match feature set\n",
    "# Preprocessing: convert time, handle nulls, and match feature set\n",
    "def preprocess_data(data):\n",
    "    try:\n",
    "        data = convert_start_time(data)\n",
    "        data = data.fillna(0)  # Fill all null values with 0\n",
    "\n",
    "        # One-hot encode categorical columns\n",
    "        data = pd.get_dummies(data, columns=categorical_columns)\n",
    "\n",
    "        # Add any missing columns with zeros (optimized)\n",
    "        missing_cols = [col for col in saved_features if col not in data.columns]\n",
    "        if missing_cols:\n",
    "            missing_data = pd.DataFrame(0, index=data.index, columns=missing_cols)\n",
    "            data = pd.concat([data, missing_data], axis=1)\n",
    "\n",
    "        # Reorder columns to match training data\n",
    "        data = data[saved_features]\n",
    "        data = data.copy()  # Defragment DataFrame\n",
    "        return data\n",
    "    except Exception as e:\n",
    "        print(f\"Error during preprocessing: {e}\")\n",
    "        return pd.DataFrame()\n",
    "\n",
    "\n",
    "# Simulate attack flows based on provided examples\n",
    "def simulate_attack_flow(attack_type='DDOS'):\n",
    "    attack_flows = {\n",
    "        'DDOS': {\n",
    "            'StartTime': time.time(),\n",
    "            'Flgs': 'e',\n",
    "            'Proto': 'udp',\n",
    "            'SrcAddr': '192.168.100.150',\n",
    "            'DstAddr': '192.168.100.3',\n",
    "            'State': 'INT',\n",
    "            'Dur': 14.19,\n",
    "            'SrcRate': 0.493336,\n",
    "            'DstRate': 0.0,\n",
    "            'SrcPkts': 8,\n",
    "            'DstPkts': 0,\n",
    "            'SrcBytes': 480,\n",
    "            'DstBytes': 0,\n",
    "            'StdDev': 0.975617\n",
    "        },\n",
    "        'Reconnaissance': {\n",
    "            'StartTime': time.time(),\n",
    "            'Flgs': 'e',\n",
    "            'Proto': 'tcp',\n",
    "            'SrcAddr': '192.168.100.147',\n",
    "            'DstAddr': '192.168.100.7',\n",
    "            'State': 'RST',\n",
    "            'Dur': 0.001259,\n",
    "            'SrcRate': 0.0,\n",
    "            'DstRate': 0.0,\n",
    "            'SrcPkts': 1,\n",
    "            'DstPkts': 1,\n",
    "            'SrcBytes': 60,\n",
    "            'DstBytes': 60,\n",
    "            'StdDev': 0.0\n",
    "        },\n",
    "        'Theft': {\n",
    "            'StartTime': time.time(),\n",
    "            'Flgs': 'e',\n",
    "            'Proto': 'tcp',\n",
    "            'SrcAddr': '192.168.100.3',\n",
    "            'DstAddr': '192.168.100.150',\n",
    "            'State': 'RST',\n",
    "            'Dur': 0.000129,\n",
    "            'SrcRate': 0.0,\n",
    "            'DstRate': 0.0,\n",
    "            'SrcPkts': 1,\n",
    "            'DstPkts': 1,\n",
    "            'SrcBytes': 74,\n",
    "            'DstBytes': 60,\n",
    "            'StdDev': 0.0\n",
    "        }\n",
    "    }\n",
    "    return pd.DataFrame([attack_flows[attack_type]])\n",
    "\n",
    "# Make predictions and format output\n",
    "def predict_intrusions(data, attack_type=None):\n",
    "    if data.empty:\n",
    "        return\n",
    "    try:\n",
    "        processed_data = preprocess_data(data)\n",
    "        predictions = model.predict(processed_data)\n",
    "        data['Prediction'] = ['normal' if pred == 0 else 'attack' for pred in predictions]\n",
    "\n",
    "        header = f\"Simulating {attack_type} Attack Flow...\" if attack_type else \"Real-time Network Flows\"\n",
    "        print(f\"\\n{'=' * 50}\\n{header}\\n{'=' * 50}\")\n",
    "        print(data[['StartTime', 'SrcAddr', 'DstAddr', 'Proto', 'State', 'Prediction']])\n",
    "        print(f\"{'-' * 50}\\n\")\n",
    "    except Exception as e:\n",
    "        print(f\"Error during prediction: {e}\")\n",
    "\n",
    "# Real-time intrusion detection loop\n",
    "print(\"Starting real-time intrusion detection...\\n\")\n",
    "\n",
    "normal_flow_counter = 0\n",
    "attack_frequency = 2\n",
    "attack_types = ['DDOS', 'Reconnaissance', 'Theft']\n",
    "attack_index = 0\n",
    "\n",
    "while True:\n",
    "    latest_data = get_latest_data(csv_file)\n",
    "    \n",
    "    if not latest_data.empty:\n",
    "        normal_flow_counter += 1\n",
    "        predict_intrusions(latest_data)\n",
    "\n",
    "    if normal_flow_counter >= attack_frequency:\n",
    "        attack_type = attack_types[attack_index]\n",
    "        simulated_attack = simulate_attack_flow(attack_type)\n",
    "        predict_intrusions(simulated_attack, attack_type)\n",
    "        \n",
    "        normal_flow_counter = 0\n",
    "        attack_index = (attack_index + 1) % len(attack_types)\n",
    "    \n",
    "    time.sleep(5)\n"
   ]
  },
  {
   "cell_type": "code",
   "execution_count": 7,
   "id": "d430eef6-ed23-4453-adf3-83dee2d911dc",
   "metadata": {},
   "outputs": [
    {
     "name": "stdout",
     "output_type": "stream",
     "text": [
      "Collecting xgboost\n",
      "  Downloading xgboost-2.1.4-py3-none-manylinux_2_28_x86_64.whl.metadata (2.1 kB)\n",
      "Requirement already satisfied: numpy in /home/mca/anaconda3/lib/python3.12/site-packages (from xgboost) (1.26.4)\n",
      "Collecting nvidia-nccl-cu12 (from xgboost)\n",
      "  Downloading nvidia_nccl_cu12-2.25.1-py3-none-manylinux2014_x86_64.manylinux_2_17_x86_64.whl.metadata (1.8 kB)\n",
      "Requirement already satisfied: scipy in /home/mca/anaconda3/lib/python3.12/site-packages (from xgboost) (1.13.1)\n",
      "Downloading xgboost-2.1.4-py3-none-manylinux_2_28_x86_64.whl (223.6 MB)\n",
      "\u001b[2K   \u001b[38;2;114;156;31m━━━━━━━━━━━━━━━━━━━━━━━━━━━━━━━━━━━━━━━━\u001b[0m \u001b[32m223.6/223.6 MB\u001b[0m \u001b[31m41.9 MB/s\u001b[0m eta \u001b[36m0:00:00\u001b[0mm eta \u001b[36m0:00:01\u001b[0m0:01\u001b[0m:01\u001b[0m\n",
      "\u001b[?25hDownloading nvidia_nccl_cu12-2.25.1-py3-none-manylinux2014_x86_64.manylinux_2_17_x86_64.whl (201.4 MB)\n",
      "\u001b[2K   \u001b[38;2;114;156;31m━━━━━━━━━━━━━━━━━━━━━━━━━━━━━━━━━━━━━━━━\u001b[0m \u001b[32m201.4/201.4 MB\u001b[0m \u001b[31m41.8 MB/s\u001b[0m eta \u001b[36m0:00:00\u001b[0mm eta \u001b[36m0:00:01\u001b[0m0:01\u001b[0m:01\u001b[0m\n",
      "\u001b[?25hInstalling collected packages: nvidia-nccl-cu12, xgboost\n",
      "Successfully installed nvidia-nccl-cu12-2.25.1 xgboost-2.1.4\n",
      "Note: you may need to restart the kernel to use updated packages.\n"
     ]
    }
   ],
   "source": [
    "pip install xgboost\n"
   ]
  },
  {
   "cell_type": "code",
   "execution_count": 17,
   "id": "e692fe13-bfc7-4b2c-b716-978957f5a95d",
   "metadata": {},
   "outputs": [],
   "source": []
  },
  {
   "cell_type": "code",
   "execution_count": 19,
   "id": "9929548a-04c2-4b25-8250-e17690e97431",
   "metadata": {},
   "outputs": [],
   "source": []
  },
  {
   "cell_type": "code",
   "execution_count": null,
   "id": "3de5c304-47bf-40a3-a2c2-b3ec93ee8596",
   "metadata": {},
   "outputs": [],
   "source": []
  },
  {
   "cell_type": "code",
   "execution_count": 13,
   "id": "55b98403-3dfa-4ec1-a65e-a0fc39cdc285",
   "metadata": {},
   "outputs": [],
   "source": []
  },
  {
   "cell_type": "code",
   "execution_count": null,
   "id": "423dad08-6159-40f7-b392-fe6fc9b915d9",
   "metadata": {},
   "outputs": [],
   "source": []
  }
 ],
 "metadata": {
  "kernelspec": {
   "display_name": "Python [conda env:base] *",
   "language": "python",
   "name": "conda-base-py"
  },
  "language_info": {
   "codemirror_mode": {
    "name": "ipython",
    "version": 3
   },
   "file_extension": ".py",
   "mimetype": "text/x-python",
   "name": "python",
   "nbconvert_exporter": "python",
   "pygments_lexer": "ipython3",
   "version": "3.12.7"
  }
 },
 "nbformat": 4,
 "nbformat_minor": 5
}
