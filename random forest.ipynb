{
 "cells": [
  {
   "cell_type": "code",
   "execution_count": 1,
   "id": "e59c33c5-6dd3-46dc-be69-e5399ab2df28",
   "metadata": {},
   "outputs": [
    {
     "name": "stdout",
     "output_type": "stream",
     "text": [
      "Training Accuracy: 0.9882\n",
      "Testing Accuracy: 0.9888\n",
      "Cross-Validation Score (mean): 0.9887\n"
     ]
    }
   ],
   "source": [
    "import pandas as pd\n",
    "from sklearn.model_selection import train_test_split, cross_val_score\n",
    "from sklearn.ensemble import RandomForestClassifier\n",
    "from sklearn.metrics import accuracy_score, classification_report\n",
    "\n",
    "# Load the dataset\n",
    "file_path = \"iot5_undersampled.csv\"  # Ensure this file exists\n",
    "df = pd.read_csv(file_path)\n",
    "\n",
    "\n",
    "# Identify the target column\n",
    "target_column = 'attack'  # Modify if needed\n",
    "\n",
    "# Splitting features and target\n",
    "X = df.drop(columns=[target_column])\n",
    "y = df[target_column]\n",
    "\n",
    "# Convert categorical variables to numerical\n",
    "X = pd.get_dummies(X)\n",
    "\n",
    "# Fill missing values\n",
    "X = X.apply(pd.to_numeric, errors='coerce')\n",
    "X.fillna(X.mean(), inplace=True)\n",
    "\n",
    "# Split into training and testing sets\n",
    "X_train, X_test, y_train, y_test = train_test_split(X, y, test_size=0.2, random_state=42, stratify=y)\n",
    "\n",
    "from sklearn.model_selection import cross_val_score\n",
    "\n",
    "# Modify Random Forest parameters\n",
    "clf = RandomForestClassifier(\n",
    "    n_estimators=50,      # Reduce number of trees\n",
    "    max_depth=5,          # Further limit tree depth\n",
    "    min_samples_split=10, # Increase min samples per split\n",
    "    min_samples_leaf=5,   # Increase min samples per leaf\n",
    "    random_state=42,\n",
    "    n_jobs=-1\n",
    ")\n",
    "\n",
    "clf.fit(X_train, y_train)\n",
    "\n",
    "# Evaluate model\n",
    "train_acc = accuracy_score(y_train, clf.predict(X_train))\n",
    "test_acc = accuracy_score(y_test, clf.predict(X_test))\n",
    "cv_scores = cross_val_score(clf, X_train, y_train, cv=5)\n",
    "\n",
    "print(f\"Training Accuracy: {train_acc:.4f}\")\n",
    "print(f\"Testing Accuracy: {test_acc:.4f}\")\n",
    "print(f\"Cross-Validation Score (mean): {cv_scores.mean():.4f}\")\n"
   ]
  },
  {
   "cell_type": "code",
   "execution_count": 3,
   "id": "17189ba1-fdf3-4eb7-a006-fe880cdae931",
   "metadata": {},
   "outputs": [
    {
     "name": "stdout",
     "output_type": "stream",
     "text": [
      "✅ Model saved successfully as 'model.pkl'\n"
     ]
    }
   ],
   "source": [
    "import joblib\n",
    "\n",
    "# Save the trained model\n",
    "joblib.dump(clf, \"model.pkl\")  # Replace 'model' with your trained Random Forest model\n",
    "print(\"✅ Model saved successfully as 'model.pkl'\")"
   ]
  },
  {
   "cell_type": "code",
   "execution_count": 5,
   "id": "59151d7a-2210-4808-b474-548ccbe8e6fa",
   "metadata": {},
   "outputs": [
    {
     "name": "stdout",
     "output_type": "stream",
     "text": [
      "Features and categorical columns saved successfully!\n"
     ]
    }
   ],
   "source": [
    "import joblib\n",
    "\n",
    "# Save the feature names (column names after preprocessing)\n",
    "joblib.dump(X.columns.tolist(), \"rffeatures.pkl\")\n",
    "\n",
    "# Identify categorical columns before one-hot encoding\n",
    "categorical_columns = ['Flgs', 'Proto', 'SrcAddr', 'DstAddr', 'State']  # Modify based on your dataset\n",
    "\n",
    "# Save the categorical column names\n",
    "joblib.dump(categorical_columns, \"rfca.pkl\")\n",
    "\n",
    "print(\"Features and categorical columns saved successfully!\")\n"
   ]
  },
  {
   "cell_type": "code",
   "execution_count": 9,
   "id": "046f858e-062a-4374-8fe3-955d1ddbeef5",
   "metadata": {},
   "outputs": [
    {
     "name": "stdout",
     "output_type": "stream",
     "text": [
      "rffeatures.pkl\n"
     ]
    }
   ],
   "source": []
  },
  {
   "cell_type": "code",
   "execution_count": null,
   "id": "0fe9574d-2be3-427f-aae5-161386208907",
   "metadata": {},
   "outputs": [],
   "source": []
  }
 ],
 "metadata": {
  "kernelspec": {
   "display_name": "Python [conda env:base] *",
   "language": "python",
   "name": "conda-base-py"
  },
  "language_info": {
   "codemirror_mode": {
    "name": "ipython",
    "version": 3
   },
   "file_extension": ".py",
   "mimetype": "text/x-python",
   "name": "python",
   "nbconvert_exporter": "python",
   "pygments_lexer": "ipython3",
   "version": "3.12.7"
  }
 },
 "nbformat": 4,
 "nbformat_minor": 5
}
